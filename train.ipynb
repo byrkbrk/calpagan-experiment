{
 "cells": [
  {
   "cell_type": "code",
   "execution_count": null,
   "metadata": {
    "id": "d88e7dc4"
   },
   "outputs": [],
   "source": [
    "from utils import * \n",
    "from models import UNet, Discriminator\n",
    "from loss_functions import get_disc_loss, get_gen_loss\n",
    "import torch.optim as optim\n",
    "\n",
    "device = torch.device(\"cuda:0\" if torch.cuda.is_available() else \"cpu\")\n",
    "print(device)\n",
    "create_directories()"
   ]
  },
  {
   "cell_type": "markdown",
   "metadata": {
    "id": "df44cf80"
   },
   "source": [
    "### Data Preparation\n"
   ]
  },
  {
   "cell_type": "code",
   "execution_count": null,
   "metadata": {
    "id": "351ea999"
   },
   "outputs": [],
   "source": [
    "# Load data\n",
    "geant_path = \"geant_72x72.pt\"\n",
    "geant = torch.load(geant_path)\n",
    "print(geant.shape)\n",
    "\n",
    "delphes_path = \"delphes_72x72.pt\"\n",
    "delphes = torch.load(delphes_path)\n",
    "print(delphes.shape)\n",
    "\n",
    "# Get max \"pixel\" value\n",
    "max_geant = geant.max()\n",
    "max_delphes = delphes.max()\n",
    "print(\"geant max:\", max_geant.item())\n",
    "print(\"delphes max:\", max_delphes.item())\n",
    "\n",
    "# Normalize the data\n",
    "max_each_delphes = delphes.reshape(len(delphes), -1).max(axis=1).values.reshape(len(delphes), 1, 1, 1)\n",
    "geant /= max_each_delphes\n",
    "delphes /= max_each_delphes\n",
    "\n",
    "# Separate into train and test sets\n",
    "n_train_examples = 8500\n",
    "test_geant, test_delphes = geant[n_train_examples:], delphes[n_train_examples:] # test data\n",
    "geant, delphes = geant[:n_train_examples], delphes[:n_train_examples] # training data\n",
    "test_max_each_delphes = max_each_delphes[n_train_examples:]\n",
    "train_max_each_delphes = max_each_delphes[:n_train_examples]\n",
    "print(\"Training shape:\", geant.shape, delphes.shape)\n",
    "print(\"Test shape:\", test_geant.shape, test_delphes.shape)\n",
    "\n",
    "# Save data information\n",
    "data_info_dict = {\n",
    "    \"n_train_examples\": n_train_examples,\n",
    "    \"train_max_each_delphes\": train_max_each_delphes,\n",
    "    \"test_max_each_delphes\": test_max_each_delphes\n",
    "}\n",
    "with open(\"data_info_dict.pickle\", \"wb\") as f:\n",
    "    pickle.dump(data_info_dict, f)"
   ]
  },
  {
   "cell_type": "markdown",
   "metadata": {
    "id": "98ec9f72"
   },
   "source": [
    "### Initializations"
   ]
  },
  {
   "cell_type": "code",
   "execution_count": 12,
   "metadata": {
    "id": "14315a4e"
   },
   "outputs": [],
   "source": [
    "n_epochs = 100\n",
    "batch_size = 64\n",
    "lr = 2e-4\n",
    "display_step = 100\n",
    "jets_no = [0, 1, 2]\n",
    "\n",
    "# Dataloader\n",
    "dataset = list(zip(geant, delphes, train_max_each_delphes))\n",
    "dataloader = DataLoader(\n",
    "    dataset,\n",
    "    batch_size=batch_size,\n",
    "    shuffle=True\n",
    ")\n",
    "\n",
    "# Generator\n",
    "generator = UNet(2, 1).to(device) # Two channels input!\n",
    "generator = generator.apply(weights_init)\n",
    "\n",
    "# Discriminator\n",
    "discriminator = Discriminator(1).to(device)\n",
    "discriminator = discriminator.apply(weights_init)\n",
    "\n",
    "# Optimizers\n",
    "gen_opt = optim.Adam(generator.parameters(), lr=lr)\n",
    "disc_opt = optim.Adam(discriminator.parameters(), lr=lr)"
   ]
  },
  {
   "cell_type": "markdown",
   "metadata": {
    "id": "e0258455"
   },
   "source": [
    "### Training"
   ]
  },
  {
   "cell_type": "code",
   "execution_count": null,
   "metadata": {
    "id": "ee45ad9c"
   },
   "outputs": [],
   "source": [
    "start_t = time()\n",
    "cur_step = 0\n",
    "mean_discriminator_loss = 0\n",
    "mean_generator_loss = 0\n",
    "mean_recon_loss = 0\n",
    "mean_adv_loss = 0\n",
    "loss_dict = {\"steps\": [], \"disc_losses\": [], \"adv_losses\": [],\n",
    "            \"recon_losses\": [], \"gen_losses\": []\n",
    "            }\n",
    "\n",
    "for epoch in range(n_epochs):\n",
    "    \n",
    "    if epoch % 10 == 0 and epoch > 0:\n",
    "        print(f\"Epoch: {epoch}, Steps: {cur_step}\")\n",
    "        save_gen_params(generator, epoch)\n",
    "        save_disc_params(discriminator, epoch)\n",
    "        show_multiple_images_and_jets(condition, real, fake, batch_max_delphes, jets_no)\n",
    "\n",
    "    for batch in tqdm(dataloader):\n",
    "        real, condition, batch_max_delphes = batch\n",
    "        real = real.to(device)\n",
    "        condition = condition.to(device)\n",
    "        batch_max_delphes = batch_max_delphes.to(device)\n",
    "        \n",
    "        # Mix real and condition\n",
    "        noise = torch.rand_like(condition)\n",
    "        condition_noise = torch.cat([condition, noise], axis=1)\n",
    "        fake = generator(condition_noise)\n",
    "        \n",
    "        # Discriminator\n",
    "        disc_opt.zero_grad()\n",
    "        cur_disc_loss = get_disc_loss(discriminator, real, fake)\n",
    "        cur_disc_loss.backward()\n",
    "        disc_opt.step()\n",
    "        \n",
    "        # Generator\n",
    "        gen_opt.zero_grad()\n",
    "        cur_gen_loss, recon_loss, adv_loss = get_gen_loss(discriminator, real, fake)\n",
    "        cur_gen_loss.backward()\n",
    "        gen_opt.step()\n",
    "        \n",
    "        # Update losses\n",
    "        cur_step += 1\n",
    "        mean_discriminator_loss += cur_disc_loss.item() / display_step\n",
    "        mean_generator_loss += cur_gen_loss.item() / display_step\n",
    "        mean_recon_loss += recon_loss.item() / display_step\n",
    "        mean_adv_loss += adv_loss.item() / display_step\n",
    "\n",
    "        if cur_step % display_step == 0:\n",
    "            print(\"Epoch: {} Steps: {} Disc Loss: {:.3f} Gen Loss: {:.3f} Recon Loss: {:.3f} Adv Loss: {:.3f}\".\n",
    "                  format(epoch, cur_step, mean_discriminator_loss, mean_generator_loss, mean_recon_loss, mean_adv_loss))\n",
    "            show_multiple_images_and_jets(\n",
    "                condition*batch_max_delphes, \n",
    "                real*batch_max_delphes, \n",
    "                fake*batch_max_delphes,\n",
    "                cur_step, jets_no, 8, 1e-5, True, True)\n",
    "            loss_dict = show_loss_curve(loss_dict, cur_step, mean_discriminator_loss, mean_adv_loss)\n",
    "\n",
    "            mean_discriminator_loss = 0\n",
    "            mean_generator_loss = 0\n",
    "            mean_recon_loss = 0\n",
    "            mean_adv_loss = 0\n",
    "\n",
    "# Save final model parameters\n",
    "save_gen_params(generator, cur_step)\n",
    "save_disc_params(discriminator, cur_step)\n",
    "print(f\"Cell completed in {(time() - start_t)/3600:.3f} hours\")\n"
   ]
  }
 ],
 "metadata": {
  "accelerator": "GPU",
  "colab": {
   "provenance": []
  },
  "kernelspec": {
   "display_name": "Python 3",
   "language": "python",
   "name": "python3"
  },
  "language_info": {
   "codemirror_mode": {
    "name": "ipython",
    "version": 3
   },
   "file_extension": ".py",
   "mimetype": "text/x-python",
   "name": "python",
   "nbconvert_exporter": "python",
   "pygments_lexer": "ipython3",
   "version": "3.7.9"
  }
 },
 "nbformat": 4,
 "nbformat_minor": 5
}
