{
  "nbformat": 4,
  "nbformat_minor": 0,
  "metadata": {
    "colab": {
      "provenance": [],
      "authorship_tag": "ABX9TyMDrXGcZCliztqIZFXZUsvu",
      "include_colab_link": true
    },
    "kernelspec": {
      "name": "python3",
      "display_name": "Python 3"
    },
    "language_info": {
      "name": "python"
    },
    "accelerator": "GPU",
    "gpuClass": "standard"
  },
  "cells": [
    {
      "cell_type": "markdown",
      "metadata": {
        "id": "view-in-github",
        "colab_type": "text"
      },
      "source": [
        "<a href=\"https://colab.research.google.com/github/byrkbrk/calpagan-experiment/blob/main/calpagan_train.ipynb\" target=\"_parent\"><img src=\"https://colab.research.google.com/assets/colab-badge.svg\" alt=\"Open In Colab\"/></a>"
      ]
    },
    {
      "cell_type": "code",
      "execution_count": null,
      "metadata": {
        "id": "d8JOCUCrK3m-"
      },
      "outputs": [],
      "source": [
        "# clone the repository\n",
        "!git clone https://github.com/byrkbrk/calpagan-experiment.git\n",
        "\n",
        "# unzip the dataset\n",
        "!unzip calpagan-experiment/geant-delphes-train.zip\n",
        "\n",
        "# relocate the datasets\n",
        "!mv *-train.pt calpagan-experiment/\n",
        "\n",
        "# reloacate the bins files \n",
        "!mv ./calpagan-experiment/*bins.npy ./\n",
        "\n",
        "# add directory to path\n",
        "import sys\n",
        "sys.path.append(\"./calpagan-experiment/\")\n",
        "\n",
        "# install pyjet\n",
        "!pip install pyjet"
      ]
    },
    {
      "cell_type": "code",
      "source": [
        "# import modules\n",
        "from utils import * \n",
        "from models import UNet, Discriminator\n",
        "from loss_functions import get_disc_loss, get_gen_loss\n",
        "import torch.optim as optim\n",
        "\n",
        "device = torch.device(\"cuda:0\" if torch.cuda.is_available() else \"cpu\")\n",
        "print(device)"
      ],
      "metadata": {
        "id": "g0-5EpjQF0p7"
      },
      "execution_count": null,
      "outputs": []
    },
    {
      "cell_type": "code",
      "source": [
        "# data preparation\n",
        "\n",
        "# read data\n",
        "dir = \"calpagan-experiment/\"\n",
        "\n",
        "geant = torch.load(dir + \"geant-train.pt\")\n",
        "print(\"geant4 shape:\", geant.shape)\n",
        "delphes = torch.load(dir + \"delphes-train.pt\")\n",
        "print(\"delphes shape:\", delphes.shape)\n",
        "\n",
        "# plot some images\n",
        "fig, ax = plt.subplots(1, 2, figsize=(8, 8))\n",
        "ax[0].imshow(geant[0].squeeze())\n",
        "ax[0].set_title(\"geant4\")\n",
        "ax[1].imshow(delphes[0].squeeze())\n",
        "ax[1].set_title(\"delphes\")\n",
        "plt.show()\n",
        "\n",
        "# normalize the datasets\n",
        "each_delphes_max = delphes.reshape(len(delphes), -1).\\\n",
        "                    max(axis=1).values.reshape(len(delphes), 1, 1, 1)\n",
        "geant /= each_delphes_max\n",
        "delphes /= each_delphes_max\n"
      ],
      "metadata": {
        "id": "I49hHzJmRsML"
      },
      "execution_count": null,
      "outputs": []
    },
    {
      "cell_type": "code",
      "source": [
        "# prepare dataloader\n",
        "dataset = list(zip(geant, delphes, each_delphes_max))\n",
        "dataloader = DataLoader(\n",
        "    dataset,\n",
        "    batch_size=64,\n",
        "    shuffle=True\n",
        ")\n",
        "\n",
        "# instantiate generator\n",
        "generator = UNet(2, 1).to(device) # Two channels input!\n",
        "generator = generator.apply(weights_init)\n",
        "\n",
        "# instantiate discriminator\n",
        "discriminator = Discriminator(1).to(device)\n",
        "discriminator = discriminator.apply(weights_init)\n",
        "\n",
        "# define optimizer \n",
        "gen_opt = optim.Adam(generator.parameters(), lr=2e-4)\n",
        "disc_opt = optim.Adam(discriminator.parameters(), lr=2e-4)\n"
      ],
      "metadata": {
        "id": "tcKktbU3S2CP"
      },
      "execution_count": null,
      "outputs": []
    },
    {
      "cell_type": "code",
      "source": [
        "# train\n",
        "n_epochs = 100\n",
        "display_step = 100\n",
        "jets_no = [0, 1, 2]\n",
        "cur_step = 0\n",
        "disc_loss = gen_loss = recon_loss = adv_loss = 0\n",
        "loss_dict = {\"steps\": [], \"disc_losses\": [], \"adv_losses\": [],\n",
        "            \"recon_losses\": [], \"gen_losses\": []\n",
        "            }\n",
        "\n",
        "for epoch in range(n_epochs):\n",
        "    for batch in tqdm(dataloader):\n",
        "        real, condition, batch_max_delphes = batch\n",
        "        real = real.to(device)\n",
        "        condition = condition.to(device)\n",
        "        batch_max_delphes = batch_max_delphes.to(device)\n",
        "\n",
        "        # mix real and condition\n",
        "        noise = torch.rand_like(condition)\n",
        "        condition_noise = torch.cat([condition, noise], axis=1)\n",
        "        fake = generator(condition_noise)\n",
        "\n",
        "        # discriminator\n",
        "        disc_opt.zero_grad()\n",
        "        cur_disc_loss = get_disc_loss(discriminator, real, fake)\n",
        "        cur_disc_loss.backward()\n",
        "        disc_opt.step()\n",
        "\n",
        "        # generator\n",
        "        gen_opt.zero_grad()\n",
        "        cur_gen_loss, cur_recon_loss, cur_adv_loss = get_gen_loss(discriminator, real, fake)\n",
        "        cur_gen_loss.backward()\n",
        "        gen_opt.step()\n",
        "\n",
        "        # update losses\n",
        "        cur_step += 1\n",
        "        disc_loss += cur_disc_loss.item() / display_step\n",
        "        gen_loss += cur_gen_loss.item() / display_step\n",
        "        recon_loss += cur_recon_loss.item() / display_step\n",
        "        adv_loss += cur_adv_loss.item() / display_step\n",
        "\n",
        "        # plot and print some statistics\n",
        "        if cur_step % display_step == 0:\n",
        "            print(\"Epoch: {} Steps: {} Disc Loss: {:.3f} Gen Loss: {:.3f} Recon Loss: {:.3f} Adv Loss: {:.3f}\".\n",
        "                  format(epoch, cur_step, disc_loss, gen_loss, recon_loss, adv_loss))\n",
        "            show_multiple_images_and_jets(\n",
        "                condition*batch_max_delphes, \n",
        "                real*batch_max_delphes, \n",
        "                fake*batch_max_delphes,\n",
        "                cur_step, jets_no, 8, 1e-5, True, False)\n",
        "            _ = show_loss_curve(loss_dict, cur_step, disc_loss, adv_loss)\n",
        "\n",
        "            disc_loss = gen_loss = recon_loss = adv_loss = 0\n",
        "\n",
        "        "
      ],
      "metadata": {
        "id": "wUlwg-iIK-EH"
      },
      "execution_count": null,
      "outputs": []
    }
  ]
}